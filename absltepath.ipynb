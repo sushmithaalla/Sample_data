{
 "cells": [
  {
   "cell_type": "code",
   "execution_count": null,
   "metadata": {},
   "outputs": [],
   "source": [
    "import os\n",
    "\n",
    "# yields the 'current' dir, then the directories, and then any files it finds\n",
    "# for each level it traverses\n",
    "for path_info in os.walk('.'):\n",
    "    print(path_info)\n",
    "    break"
   ]
  },
  {
   "cell_type": "code",
   "execution_count": null,
   "metadata": {},
   "outputs": [],
   "source": [
    "import os\n",
    "from os.path import abspath, join\n",
    "\n",
    "# producing absolute paths, instead of a tuple of three items\n",
    "for top_dir, directories, files in os.walk('.'):\n",
    "    for directory in directories:\n",
    "        print(abspath(join(top_dir, directory)))\n",
    "    for _file in files:\n",
    "        print(abspath(join(top_dir, _file)))\n",
    "    break"
   ]
  },
  {
   "cell_type": "code",
   "execution_count": 2,
   "metadata": {},
   "outputs": [
    {
     "name": "stdout",
     "output_type": "stream",
     "text": [
      "Path: /home/sushmitha/courseera_practice/sample_data/wine-ratings.csv, size: 13518834\n",
      "Path: /home/sushmitha/courseera_practice/sample_data/wine-ratings.json, size: 355744\n",
      "Path: /home/sushmitha/courseera_practice/sample_data/wine-ratings-small.csv, size: 314894\n",
      "Path: /home/sushmitha/courseera_practice/sample_data/populate.sql, size: 103525\n",
      "Path: /home/sushmitha/courseera_practice/sample_data/sample.db, size: 8192\n"
     ]
    }
   ],
   "source": [
    "# Now that absolute paths are shown, we can inspect them for file metadata\n",
    "\n",
    "import os\n",
    "from os.path import abspath, join, getsize\n",
    "\n",
    "sizes = {}\n",
    "\n",
    "for top_dir, directories, files in os.walk('.'):\n",
    "    for _file in files:\n",
    "        full_path = abspath(join(top_dir, _file))\n",
    "        size = getsize(full_path)\n",
    "        sizes[full_path] = size\n",
    "        #break\n",
    "\n",
    "sorted_results = sorted(sizes, key=sizes.get, reverse=True)\n",
    "\n",
    "for path in sorted_results[:5]:\n",
    "    print(\"Path: {0}, size: {1}\".format(path, sizes[path]))"
   ]
  }
 ],
 "metadata": {
  "kernelspec": {
   "display_name": "Python 3",
   "language": "python",
   "name": "python3"
  },
  "language_info": {
   "codemirror_mode": {
    "name": "ipython",
    "version": 3
   },
   "file_extension": ".py",
   "mimetype": "text/x-python",
   "name": "python",
   "nbconvert_exporter": "python",
   "pygments_lexer": "ipython3",
   "version": "3.10.12"
  }
 },
 "nbformat": 4,
 "nbformat_minor": 2
}
