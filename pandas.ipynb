{
 "cells": [
  {
   "cell_type": "code",
   "execution_count": 2,
   "metadata": {},
   "outputs": [],
   "source": [
    "from csv import DictReader\n",
    "\n",
    "# Open the CSV file and read it into a list of dictionaries and ignore unicode errors\n",
    "\n",
    "with open('./wine-ratings-small.csv', encoding='utf-8', errors='ignore') as f:\n",
    "    reader = DictReader(f)\n",
    "    wines = list(reader)\n"
   ]
  },
  {
   "cell_type": "code",
   "execution_count": 7,
   "metadata": {},
   "outputs": [
    {
     "data": {
      "text/html": [
       "<div>\n",
       "<style scoped>\n",
       "    .dataframe tbody tr th:only-of-type {\n",
       "        vertical-align: middle;\n",
       "    }\n",
       "\n",
       "    .dataframe tbody tr th {\n",
       "        vertical-align: top;\n",
       "    }\n",
       "\n",
       "    .dataframe thead th {\n",
       "        text-align: right;\n",
       "    }\n",
       "</style>\n",
       "<table border=\"1\" class=\"dataframe\">\n",
       "  <thead>\n",
       "    <tr style=\"text-align: right;\">\n",
       "      <th></th>\n",
       "      <th>name</th>\n",
       "      <th>grape</th>\n",
       "      <th>region</th>\n",
       "      <th>variety</th>\n",
       "      <th>rating</th>\n",
       "      <th>notes</th>\n",
       "    </tr>\n",
       "  </thead>\n",
       "  <tbody>\n",
       "    <tr>\n",
       "      <th>0</th>\n",
       "      <td>Laurenz V Charming Gruner Veltliner 2013</td>\n",
       "      <td>NaN</td>\n",
       "      <td>Kamptal, Austria</td>\n",
       "      <td>White Wine</td>\n",
       "      <td>90.0</td>\n",
       "      <td>Aromas of ripe apples and a typical Veltliner ...</td>\n",
       "    </tr>\n",
       "    <tr>\n",
       "      <th>1</th>\n",
       "      <td>Laurenz V Charming Gruner Veltliner 2014</td>\n",
       "      <td>NaN</td>\n",
       "      <td>Kamptal, Austria</td>\n",
       "      <td>White Wine</td>\n",
       "      <td>90.0</td>\n",
       "      <td>Aromas of ripe apples and a typical Veltliner ...</td>\n",
       "    </tr>\n",
       "    <tr>\n",
       "      <th>2</th>\n",
       "      <td>Laurenz V Singing Gruner Veltliner 2007</td>\n",
       "      <td>NaN</td>\n",
       "      <td>Austria</td>\n",
       "      <td>White Wine</td>\n",
       "      <td>90.0</td>\n",
       "      <td>A very attractive fruit bouquet yields apple, ...</td>\n",
       "    </tr>\n",
       "    <tr>\n",
       "      <th>3</th>\n",
       "      <td>Laurenz V Singing Gruner Veltliner 2010</td>\n",
       "      <td>NaN</td>\n",
       "      <td>Austria</td>\n",
       "      <td>White Wine</td>\n",
       "      <td>88.0</td>\n",
       "      <td>A very attractive fruit bouquet yields apple, ...</td>\n",
       "    </tr>\n",
       "    <tr>\n",
       "      <th>4</th>\n",
       "      <td>Laurenz V Singing Gruner Veltliner 2011</td>\n",
       "      <td>NaN</td>\n",
       "      <td>Austria</td>\n",
       "      <td>White Wine</td>\n",
       "      <td>88.0</td>\n",
       "      <td>A very attractive fruit bouquet yields apple, ...</td>\n",
       "    </tr>\n",
       "  </tbody>\n",
       "</table>\n",
       "</div>"
      ],
      "text/plain": [
       "                                       name  grape            region  \\\n",
       "0  Laurenz V Charming Gruner Veltliner 2013    NaN  Kamptal, Austria   \n",
       "1  Laurenz V Charming Gruner Veltliner 2014    NaN  Kamptal, Austria   \n",
       "2   Laurenz V Singing Gruner Veltliner 2007    NaN           Austria   \n",
       "3   Laurenz V Singing Gruner Veltliner 2010    NaN           Austria   \n",
       "4   Laurenz V Singing Gruner Veltliner 2011    NaN           Austria   \n",
       "\n",
       "      variety  rating                                              notes  \n",
       "0  White Wine    90.0  Aromas of ripe apples and a typical Veltliner ...  \n",
       "1  White Wine    90.0  Aromas of ripe apples and a typical Veltliner ...  \n",
       "2  White Wine    90.0  A very attractive fruit bouquet yields apple, ...  \n",
       "3  White Wine    88.0  A very attractive fruit bouquet yields apple, ...  \n",
       "4  White Wine    88.0  A very attractive fruit bouquet yields apple, ...  "
      ]
     },
     "execution_count": 7,
     "metadata": {},
     "output_type": "execute_result"
    }
   ],
   "source": [
    "import pandas as pd\n",
    "\n",
    "df = pd.read_csv('./wine-ratings-small.csv')\n",
    "df.head()\n",
    "import pandas as pd\n",
    "df = pd.read_csv(\"./wine-ratings-small.csv\", index_col=0) # read the csv file and set the index column to 0\n",
    "df.head()"
   ]
  }
 ],
 "metadata": {
  "kernelspec": {
   "display_name": "Python 3",
   "language": "python",
   "name": "python3"
  },
  "language_info": {
   "codemirror_mode": {
    "name": "ipython",
    "version": 3
   },
   "file_extension": ".py",
   "mimetype": "text/x-python",
   "name": "python",
   "nbconvert_exporter": "python",
   "pygments_lexer": "ipython3",
   "version": "3.10.12"
  }
 },
 "nbformat": 4,
 "nbformat_minor": 2
}
